{
 "cells": [
  {
   "cell_type": "markdown",
   "metadata": {},
   "source": [
    "## This is my attemp at the solution of the \"School budget\" competition of drivendata \n",
    "\n",
    "The competition is now closed, but can be found at https://www.drivendata.org/competitions/4/box-plots-for-education/page/121/\n",
    "\n",
    "Between other ML techniques, I used a pipeline, a one versus rest classifier and a Hashing vectorizer"
   ]
  },
  {
   "cell_type": "code",
   "execution_count": 200,
   "metadata": {},
   "outputs": [],
   "source": [
    "import os\n",
    "import pandas as pd\n",
    "import numpy as np\n",
    "import matplotlib.pyplot as plt\n",
    "from sklearn.preprocessing import Imputer\n",
    "from sklearn.feature_extraction.text import HashingVectorizer\n",
    "from sklearn.feature_selection import chi2, SelectKBest\n",
    "from sklearn.preprocessing import MaxAbsScaler\n",
    "from sklearn.multiclass import OneVsRestClassifier\n",
    "from sklearn.linear_model import LogisticRegression\n",
    "from sklearn.model_selection import train_test_split\n",
    "from sklearn.preprocessing import FunctionTransformer\n",
    "from sklearn.feature_selection import chi2, SelectKBest\n",
    "from sklearn.pipeline import Pipeline, FeatureUnion\n",
    "from sklearn.preprocessing import Imputer\n",
    "from sklearn.feature_extraction.text import HashingVectorizer\n",
    "from sklearn.multiclass import OneVsRestClassifier\n",
    "from sklearn.linear_model import LogisticRegression\n",
    "from sklearn.preprocessing import MaxAbsScaler\n",
    "from sklearn.metrics.scorer import make_scorer"
   ]
  },
  {
   "cell_type": "code",
   "execution_count": 201,
   "metadata": {},
   "outputs": [],
   "source": [
    "df=pd.read_csv(\"TrainingData.csv\",index_col=0)"
   ]
  },
  {
   "cell_type": "code",
   "execution_count": 202,
   "metadata": {},
   "outputs": [
    {
     "data": {
      "text/html": [
       "<div>\n",
       "<style scoped>\n",
       "    .dataframe tbody tr th:only-of-type {\n",
       "        vertical-align: middle;\n",
       "    }\n",
       "\n",
       "    .dataframe tbody tr th {\n",
       "        vertical-align: top;\n",
       "    }\n",
       "\n",
       "    .dataframe thead th {\n",
       "        text-align: right;\n",
       "    }\n",
       "</style>\n",
       "<table border=\"1\" class=\"dataframe\">\n",
       "  <thead>\n",
       "    <tr style=\"text-align: right;\">\n",
       "      <th></th>\n",
       "      <th>Function</th>\n",
       "      <th>Use</th>\n",
       "      <th>Sharing</th>\n",
       "      <th>Reporting</th>\n",
       "      <th>Student_Type</th>\n",
       "      <th>Position_Type</th>\n",
       "      <th>Object_Type</th>\n",
       "      <th>Pre_K</th>\n",
       "      <th>Operating_Status</th>\n",
       "      <th>Object_Description</th>\n",
       "      <th>...</th>\n",
       "      <th>Sub_Object_Description</th>\n",
       "      <th>Location_Description</th>\n",
       "      <th>FTE</th>\n",
       "      <th>Function_Description</th>\n",
       "      <th>Facility_or_Department</th>\n",
       "      <th>Position_Extra</th>\n",
       "      <th>Total</th>\n",
       "      <th>Program_Description</th>\n",
       "      <th>Fund_Description</th>\n",
       "      <th>Text_1</th>\n",
       "    </tr>\n",
       "  </thead>\n",
       "  <tbody>\n",
       "    <tr>\n",
       "      <th>134338</th>\n",
       "      <td>Teacher Compensation</td>\n",
       "      <td>Instruction</td>\n",
       "      <td>School Reported</td>\n",
       "      <td>School</td>\n",
       "      <td>NO_LABEL</td>\n",
       "      <td>Teacher</td>\n",
       "      <td>NO_LABEL</td>\n",
       "      <td>NO_LABEL</td>\n",
       "      <td>PreK-12 Operating</td>\n",
       "      <td>NaN</td>\n",
       "      <td>...</td>\n",
       "      <td>NaN</td>\n",
       "      <td>NaN</td>\n",
       "      <td>1.0</td>\n",
       "      <td>NaN</td>\n",
       "      <td>NaN</td>\n",
       "      <td>KINDERGARTEN</td>\n",
       "      <td>50471.810</td>\n",
       "      <td>KINDERGARTEN</td>\n",
       "      <td>General Fund</td>\n",
       "      <td>NaN</td>\n",
       "    </tr>\n",
       "    <tr>\n",
       "      <th>206341</th>\n",
       "      <td>NO_LABEL</td>\n",
       "      <td>NO_LABEL</td>\n",
       "      <td>NO_LABEL</td>\n",
       "      <td>NO_LABEL</td>\n",
       "      <td>NO_LABEL</td>\n",
       "      <td>NO_LABEL</td>\n",
       "      <td>NO_LABEL</td>\n",
       "      <td>NO_LABEL</td>\n",
       "      <td>Non-Operating</td>\n",
       "      <td>CONTRACTOR SERVICES</td>\n",
       "      <td>...</td>\n",
       "      <td>NaN</td>\n",
       "      <td>NaN</td>\n",
       "      <td>NaN</td>\n",
       "      <td>RGN  GOB</td>\n",
       "      <td>NaN</td>\n",
       "      <td>UNDESIGNATED</td>\n",
       "      <td>3477.860</td>\n",
       "      <td>BUILDING IMPROVEMENT SERVICES</td>\n",
       "      <td>NaN</td>\n",
       "      <td>BUILDING IMPROVEMENT SERVICES</td>\n",
       "    </tr>\n",
       "    <tr>\n",
       "      <th>326408</th>\n",
       "      <td>Teacher Compensation</td>\n",
       "      <td>Instruction</td>\n",
       "      <td>School Reported</td>\n",
       "      <td>School</td>\n",
       "      <td>Unspecified</td>\n",
       "      <td>Teacher</td>\n",
       "      <td>Base Salary/Compensation</td>\n",
       "      <td>Non PreK</td>\n",
       "      <td>PreK-12 Operating</td>\n",
       "      <td>Personal Services - Teachers</td>\n",
       "      <td>...</td>\n",
       "      <td>NaN</td>\n",
       "      <td>NaN</td>\n",
       "      <td>1.0</td>\n",
       "      <td>NaN</td>\n",
       "      <td>NaN</td>\n",
       "      <td>TEACHER</td>\n",
       "      <td>62237.130</td>\n",
       "      <td>Instruction - Regular</td>\n",
       "      <td>General Purpose School</td>\n",
       "      <td>NaN</td>\n",
       "    </tr>\n",
       "    <tr>\n",
       "      <th>364634</th>\n",
       "      <td>Substitute Compensation</td>\n",
       "      <td>Instruction</td>\n",
       "      <td>School Reported</td>\n",
       "      <td>School</td>\n",
       "      <td>Unspecified</td>\n",
       "      <td>Substitute</td>\n",
       "      <td>Benefits</td>\n",
       "      <td>NO_LABEL</td>\n",
       "      <td>PreK-12 Operating</td>\n",
       "      <td>EMPLOYEE BENEFITS</td>\n",
       "      <td>...</td>\n",
       "      <td>NaN</td>\n",
       "      <td>NaN</td>\n",
       "      <td>NaN</td>\n",
       "      <td>UNALLOC BUDGETS/SCHOOLS</td>\n",
       "      <td>NaN</td>\n",
       "      <td>PROFESSIONAL-INSTRUCTIONAL</td>\n",
       "      <td>22.300</td>\n",
       "      <td>GENERAL MIDDLE/JUNIOR HIGH SCH</td>\n",
       "      <td>NaN</td>\n",
       "      <td>REGULAR INSTRUCTION</td>\n",
       "    </tr>\n",
       "    <tr>\n",
       "      <th>47683</th>\n",
       "      <td>Substitute Compensation</td>\n",
       "      <td>Instruction</td>\n",
       "      <td>School Reported</td>\n",
       "      <td>School</td>\n",
       "      <td>Unspecified</td>\n",
       "      <td>Teacher</td>\n",
       "      <td>Substitute Compensation</td>\n",
       "      <td>NO_LABEL</td>\n",
       "      <td>PreK-12 Operating</td>\n",
       "      <td>TEACHER COVERAGE FOR TEACHER</td>\n",
       "      <td>...</td>\n",
       "      <td>NaN</td>\n",
       "      <td>NaN</td>\n",
       "      <td>NaN</td>\n",
       "      <td>NON-PROJECT</td>\n",
       "      <td>NaN</td>\n",
       "      <td>PROFESSIONAL-INSTRUCTIONAL</td>\n",
       "      <td>54.166</td>\n",
       "      <td>GENERAL HIGH SCHOOL EDUCATION</td>\n",
       "      <td>NaN</td>\n",
       "      <td>REGULAR INSTRUCTION</td>\n",
       "    </tr>\n",
       "  </tbody>\n",
       "</table>\n",
       "<p>5 rows × 25 columns</p>\n",
       "</div>"
      ],
      "text/plain": [
       "                       Function          Use          Sharing Reporting  \\\n",
       "134338     Teacher Compensation  Instruction  School Reported    School   \n",
       "206341                 NO_LABEL     NO_LABEL         NO_LABEL  NO_LABEL   \n",
       "326408     Teacher Compensation  Instruction  School Reported    School   \n",
       "364634  Substitute Compensation  Instruction  School Reported    School   \n",
       "47683   Substitute Compensation  Instruction  School Reported    School   \n",
       "\n",
       "       Student_Type Position_Type               Object_Type     Pre_K  \\\n",
       "134338     NO_LABEL       Teacher                  NO_LABEL  NO_LABEL   \n",
       "206341     NO_LABEL      NO_LABEL                  NO_LABEL  NO_LABEL   \n",
       "326408  Unspecified       Teacher  Base Salary/Compensation  Non PreK   \n",
       "364634  Unspecified    Substitute                  Benefits  NO_LABEL   \n",
       "47683   Unspecified       Teacher   Substitute Compensation  NO_LABEL   \n",
       "\n",
       "         Operating_Status            Object_Description  \\\n",
       "134338  PreK-12 Operating                           NaN   \n",
       "206341      Non-Operating           CONTRACTOR SERVICES   \n",
       "326408  PreK-12 Operating  Personal Services - Teachers   \n",
       "364634  PreK-12 Operating             EMPLOYEE BENEFITS   \n",
       "47683   PreK-12 Operating  TEACHER COVERAGE FOR TEACHER   \n",
       "\n",
       "                    ...               Sub_Object_Description  \\\n",
       "134338              ...                                  NaN   \n",
       "206341              ...                                  NaN   \n",
       "326408              ...                                  NaN   \n",
       "364634              ...                                  NaN   \n",
       "47683               ...                                  NaN   \n",
       "\n",
       "       Location_Description  FTE     Function_Description  \\\n",
       "134338                  NaN  1.0                      NaN   \n",
       "206341                  NaN  NaN                 RGN  GOB   \n",
       "326408                  NaN  1.0                      NaN   \n",
       "364634                  NaN  NaN  UNALLOC BUDGETS/SCHOOLS   \n",
       "47683                   NaN  NaN              NON-PROJECT   \n",
       "\n",
       "       Facility_or_Department              Position_Extra      Total  \\\n",
       "134338                    NaN               KINDERGARTEN   50471.810   \n",
       "206341                    NaN                UNDESIGNATED   3477.860   \n",
       "326408                    NaN                     TEACHER  62237.130   \n",
       "364634                    NaN  PROFESSIONAL-INSTRUCTIONAL     22.300   \n",
       "47683                     NaN  PROFESSIONAL-INSTRUCTIONAL     54.166   \n",
       "\n",
       "                   Program_Description        Fund_Description  \\\n",
       "134338                    KINDERGARTEN            General Fund   \n",
       "206341   BUILDING IMPROVEMENT SERVICES                     NaN   \n",
       "326408           Instruction - Regular  General Purpose School   \n",
       "364634  GENERAL MIDDLE/JUNIOR HIGH SCH                     NaN   \n",
       "47683    GENERAL HIGH SCHOOL EDUCATION                     NaN   \n",
       "\n",
       "                               Text_1  \n",
       "134338                            NaN  \n",
       "206341  BUILDING IMPROVEMENT SERVICES  \n",
       "326408                            NaN  \n",
       "364634            REGULAR INSTRUCTION  \n",
       "47683             REGULAR INSTRUCTION  \n",
       "\n",
       "[5 rows x 25 columns]"
      ]
     },
     "execution_count": 202,
     "metadata": {},
     "output_type": "execute_result"
    }
   ],
   "source": [
    "df.head()"
   ]
  },
  {
   "cell_type": "code",
   "execution_count": 203,
   "metadata": {},
   "outputs": [
    {
     "name": "stdout",
     "output_type": "stream",
     "text": [
      "<class 'pandas.core.frame.DataFrame'>\n",
      "Int64Index: 400277 entries, 134338 to 415831\n",
      "Data columns (total 25 columns):\n",
      "Function                  400277 non-null object\n",
      "Use                       400277 non-null object\n",
      "Sharing                   400277 non-null object\n",
      "Reporting                 400277 non-null object\n",
      "Student_Type              400277 non-null object\n",
      "Position_Type             400277 non-null object\n",
      "Object_Type               400277 non-null object\n",
      "Pre_K                     400277 non-null object\n",
      "Operating_Status          400277 non-null object\n",
      "Object_Description        375493 non-null object\n",
      "Text_2                    88217 non-null object\n",
      "SubFund_Description       306855 non-null object\n",
      "Job_Title_Description     292743 non-null object\n",
      "Text_3                    109152 non-null object\n",
      "Text_4                    53746 non-null object\n",
      "Sub_Object_Description    91603 non-null object\n",
      "Location_Description      162054 non-null object\n",
      "FTE                       126071 non-null float64\n",
      "Function_Description      342195 non-null object\n",
      "Facility_or_Department    53886 non-null object\n",
      "Position_Extra            264764 non-null object\n",
      "Total                     395722 non-null float64\n",
      "Program_Description       304660 non-null object\n",
      "Fund_Description          202877 non-null object\n",
      "Text_1                    292285 non-null object\n",
      "dtypes: float64(2), object(23)\n",
      "memory usage: 79.4+ MB\n"
     ]
    }
   ],
   "source": [
    "df.info()"
   ]
  },
  {
   "cell_type": "code",
   "execution_count": 204,
   "metadata": {},
   "outputs": [
    {
     "data": {
      "text/html": [
       "<div>\n",
       "<style scoped>\n",
       "    .dataframe tbody tr th:only-of-type {\n",
       "        vertical-align: middle;\n",
       "    }\n",
       "\n",
       "    .dataframe tbody tr th {\n",
       "        vertical-align: top;\n",
       "    }\n",
       "\n",
       "    .dataframe thead th {\n",
       "        text-align: right;\n",
       "    }\n",
       "</style>\n",
       "<table border=\"1\" class=\"dataframe\">\n",
       "  <thead>\n",
       "    <tr style=\"text-align: right;\">\n",
       "      <th></th>\n",
       "      <th>FTE</th>\n",
       "      <th>Total</th>\n",
       "    </tr>\n",
       "  </thead>\n",
       "  <tbody>\n",
       "    <tr>\n",
       "      <th>count</th>\n",
       "      <td>126071.000000</td>\n",
       "      <td>3.957220e+05</td>\n",
       "    </tr>\n",
       "    <tr>\n",
       "      <th>mean</th>\n",
       "      <td>0.426794</td>\n",
       "      <td>1.310586e+04</td>\n",
       "    </tr>\n",
       "    <tr>\n",
       "      <th>std</th>\n",
       "      <td>0.573576</td>\n",
       "      <td>3.682254e+05</td>\n",
       "    </tr>\n",
       "    <tr>\n",
       "      <th>min</th>\n",
       "      <td>-0.087551</td>\n",
       "      <td>-8.746631e+07</td>\n",
       "    </tr>\n",
       "    <tr>\n",
       "      <th>25%</th>\n",
       "      <td>0.000792</td>\n",
       "      <td>7.379770e+01</td>\n",
       "    </tr>\n",
       "    <tr>\n",
       "      <th>50%</th>\n",
       "      <td>0.130927</td>\n",
       "      <td>4.612300e+02</td>\n",
       "    </tr>\n",
       "    <tr>\n",
       "      <th>75%</th>\n",
       "      <td>1.000000</td>\n",
       "      <td>3.652662e+03</td>\n",
       "    </tr>\n",
       "    <tr>\n",
       "      <th>max</th>\n",
       "      <td>46.800000</td>\n",
       "      <td>1.297000e+08</td>\n",
       "    </tr>\n",
       "  </tbody>\n",
       "</table>\n",
       "</div>"
      ],
      "text/plain": [
       "                 FTE         Total\n",
       "count  126071.000000  3.957220e+05\n",
       "mean        0.426794  1.310586e+04\n",
       "std         0.573576  3.682254e+05\n",
       "min        -0.087551 -8.746631e+07\n",
       "25%         0.000792  7.379770e+01\n",
       "50%         0.130927  4.612300e+02\n",
       "75%         1.000000  3.652662e+03\n",
       "max        46.800000  1.297000e+08"
      ]
     },
     "execution_count": 204,
     "metadata": {},
     "output_type": "execute_result"
    }
   ],
   "source": [
    "df.describe()"
   ]
  },
  {
   "cell_type": "markdown",
   "metadata": {},
   "source": [
    "FTE =  Stands for \"full-time equivalent\". If the budget item is associated to an employee, this number tells us the percentage of full-time that the employee works. A value of 1 means the associated employee works for the school full-time. A value close to 0 means the item is associated to a part-time or contracted employee.\n",
    "\n",
    "Total= Stands for the total cost of the expenditure. This number tells us how much the budget item cost."
   ]
  },
  {
   "cell_type": "code",
   "execution_count": 205,
   "metadata": {},
   "outputs": [
    {
     "data": {
      "image/png": "[encoded data removed]",
      "text/plain": [
       "<Figure size 432x288 with 1 Axes>"
      ]
     },
     "metadata": {
      "needs_background": "light"
     },
     "output_type": "display_data"
    }
   ],
   "source": [
    "plt.hist(df[\"FTE\"].dropna(),range=(0,1))\n",
    "plt.title('Distribution of %full-time \\n employee works')\n",
    "plt.xlabel('% of full-time')\n",
    "plt.ylabel('num employees')\n",
    "plt.show()"
   ]
  },
  {
   "cell_type": "markdown",
   "metadata": {},
   "source": [
    ".dropna() serve per togliere missing values"
   ]
  },
  {
   "cell_type": "code",
   "execution_count": 206,
   "metadata": {},
   "outputs": [
    {
     "data": {
      "text/plain": [
       "object     23\n",
       "float64     2\n",
       "dtype: int64"
      ]
     },
     "execution_count": 206,
     "metadata": {},
     "output_type": "execute_result"
    }
   ],
   "source": [
    "df.dtypes.value_counts()"
   ]
  },
  {
   "cell_type": "code",
   "execution_count": 207,
   "metadata": {},
   "outputs": [
    {
     "data": {
      "text/plain": [
       "Text(0,0.5,'Number of unique values')"
      ]
     },
     "execution_count": 207,
     "metadata": {},
     "output_type": "execute_result"
    },
    {
     "data": {
      "image/png": "[encoded data removed]",
      "text/plain": [
       "<Figure size 432x288 with 1 Axes>"
      ]
     },
     "metadata": {
      "needs_background": "light"
     },
     "output_type": "display_data"
    }
   ],
   "source": [
    "num_unique_labels=df.apply(pd.Series.nunique)\n",
    "num_unique_labels.plot(kind=\"bar\")\n",
    "plt.xlabel('Labels')\n",
    "plt.ylabel('Number of unique values')"
   ]
  },
  {
   "cell_type": "code",
   "execution_count": 208,
   "metadata": {},
   "outputs": [
    {
     "name": "stdout",
     "output_type": "stream",
     "text": [
      "<class 'pandas.core.frame.DataFrame'>\n",
      "Int64Index: 400277 entries, 134338 to 415831\n",
      "Data columns (total 21 columns):\n",
      "Function                  400277 non-null object\n",
      "Use                       400277 non-null object\n",
      "Sharing                   400277 non-null object\n",
      "Reporting                 400277 non-null object\n",
      "Student_Type              400277 non-null object\n",
      "Position_Type             400277 non-null object\n",
      "Object_Type               400277 non-null object\n",
      "Pre_K                     400277 non-null object\n",
      "Operating_Status          400277 non-null object\n",
      "Object_Description        375493 non-null object\n",
      "Text_2                    88217 non-null object\n",
      "SubFund_Description       306855 non-null object\n",
      "Text_3                    109152 non-null object\n",
      "Text_4                    53746 non-null object\n",
      "Sub_Object_Description    91603 non-null object\n",
      "Location_Description      162054 non-null object\n",
      "Function_Description      342195 non-null object\n",
      "Facility_or_Department    53886 non-null object\n",
      "Position_Extra            264764 non-null object\n",
      "Program_Description       304660 non-null object\n",
      "Fund_Description          202877 non-null object\n",
      "dtypes: object(21)\n",
      "memory usage: 67.2+ MB\n"
     ]
    }
   ],
   "source": [
    "dfmt=df.drop([\"Total\",\"FTE\",\"Job_Title_Description\",\"Text_1\"],axis=1)\n",
    "dfmt.info()"
   ]
  },
  {
   "cell_type": "code",
   "execution_count": 209,
   "metadata": {},
   "outputs": [
    {
     "data": {
      "image/png": "[encoded data removed]",
      "text/plain": [
       "<Figure size 432x288 with 1 Axes>"
      ]
     },
     "metadata": {
      "needs_background": "light"
     },
     "output_type": "display_data"
    },
    {
     "name": "stdout",
     "output_type": "stream",
     "text": [
      "Function                   37\n",
      "Use                         8\n",
      "Sharing                     5\n",
      "Reporting                   3\n",
      "Student_Type                9\n",
      "Position_Type              25\n",
      "Object_Type                11\n",
      "Pre_K                       3\n",
      "Operating_Status            3\n",
      "Object_Description        602\n",
      "Text_2                    301\n",
      "SubFund_Description       274\n",
      "Text_3                     34\n",
      "Text_4                    244\n",
      "Sub_Object_Description    182\n",
      "Location_Description      354\n",
      "Function_Description      687\n",
      "Facility_or_Department    179\n",
      "Position_Extra            580\n",
      "Program_Description       421\n",
      "Fund_Description          141\n",
      "dtype: int64\n"
     ]
    }
   ],
   "source": [
    "num_unique_labels=dfmt.apply(pd.Series.nunique)\n",
    "num_unique_labels.plot(kind=\"bar\")\n",
    "plt.xlabel('Labels')\n",
    "plt.ylabel('Number of unique values')\n",
    "plt.show()\n",
    "print num_unique_labels"
   ]
  },
  {
   "cell_type": "markdown",
   "metadata": {},
   "source": [
    "NOTA: useremo \"log_loss\" come metrica per misurare la bontà del nostro modello. Si può implementare ad esempio come sklearn.metrics.log_loss"
   ]
  },
  {
   "cell_type": "code",
   "execution_count": 210,
   "metadata": {},
   "outputs": [
    {
     "name": "stdout",
     "output_type": "stream",
     "text": [
      "(400277, 16) (400277, 104)\n",
      "(300207, 16) (100070, 16) (300207, 104) (100070, 104)\n"
     ]
    }
   ],
   "source": [
    "labels = ['Function',\n",
    "          'Use',\n",
    "          'Sharing',\n",
    "          'Reporting',\n",
    "          'Student_Type',\n",
    "          'Position_Type',\n",
    "          'Object_Type', \n",
    "          'Pre_K',\n",
    "          'Operating_Status']\n",
    "labels.sort()\n",
    "\n",
    "features = [c for c in df.columns if c not in labels]\n",
    "\n",
    "nfeatures = ['FTE', \"Total\"]\n",
    "\n",
    "tfeatures = [c for c in features if c not in nfeatures] \n",
    "\n",
    "sample_size=df.shape[0]\n",
    "\n",
    "X=df[features]\n",
    "X=X[:sample_size]\n",
    "y=pd.get_dummies(df[labels])\n",
    "y=y[:sample_size]\n",
    "print X.shape,y.shape\n",
    "\n",
    "X_train,X_test,y_train,y_test=train_test_split(X,y,random_state=1)\n",
    "print X_train.shape,X_test.shape,y_train.shape,y_test.shape"
   ]
  },
  {
   "cell_type": "code",
   "execution_count": 211,
   "metadata": {},
   "outputs": [],
   "source": [
    "def combine_text_columns(data_frame):\n",
    "    data_frame=data_frame[tfeatures]\n",
    "    data_frame.fillna(\"\", inplace=True)\n",
    "    return data_frame.apply(lambda x : \" \".join(x), axis=1)\n",
    "    \n",
    "\n",
    "get_text_data = FunctionTransformer(combine_text_columns, validate=False)\n",
    "get_numeric_data = FunctionTransformer(lambda x: x[nfeatures], validate=False)"
   ]
  },
  {
   "cell_type": "code",
   "execution_count": 212,
   "metadata": {},
   "outputs": [],
   "source": [
    "TOKENS_ALPHANUMERIC = '[A-Za-z0-9]+(?=\\\\s+)'\n",
    "\n",
    "vec=HashingVectorizer(token_pattern=TOKENS_ALPHANUMERIC,non_negative=True, norm=None, binary=False,ngram_range=(1, 2))\n",
    "pip_num=Pipeline([(\"num_sel\",get_numeric_data),(\"imputer\",Imputer())])\n",
    "pip_text=Pipeline([(\"text_sel\",get_text_data),(\"vectorizer\",vec),('dim_red', SelectKBest(chi2, 300))])\n",
    "union=FeatureUnion([(\"num\",pip_num),(\"text\",pip_text)])\n",
    "pip=Pipeline([(\"feat_union\",union),('scale', MaxAbsScaler()),('clf', OneVsRestClassifier(LogisticRegression()))])"
   ]
  },
  {
   "cell_type": "code",
   "execution_count": 213,
   "metadata": {},
   "outputs": [
    {
     "name": "stderr",
     "output_type": "stream",
     "text": [
      "/anaconda2/lib/python2.7/site-packages/sklearn/feature_extraction/hashing.py:94: DeprecationWarning: the option non_negative=True has been deprecated in 0.19 and will be removed in version 0.21.\n",
      "  \" in version 0.21.\", DeprecationWarning)\n",
      "/anaconda2/lib/python2.7/site-packages/sklearn/feature_extraction/hashing.py:94: DeprecationWarning: the option non_negative=True has been deprecated in 0.19 and will be removed in version 0.21.\n",
      "  \" in version 0.21.\", DeprecationWarning)\n"
     ]
    },
    {
     "data": {
      "text/plain": [
       "Pipeline(memory=None,\n",
       "     steps=[('feat_union', FeatureUnion(n_jobs=1,\n",
       "       transformer_list=[('num', Pipeline(memory=None,\n",
       "     steps=[('num_sel', FunctionTransformer(accept_sparse=False,\n",
       "          func=<function <lambda> at 0x1a0d5decf8>, inv_kw_args=None,\n",
       "          inverse_func=None, kw_args=None, pass_y='deprecated',\n",
       " ...=None, solver='liblinear', tol=0.0001,\n",
       "          verbose=0, warm_start=False),\n",
       "          n_jobs=1))])"
      ]
     },
     "execution_count": 213,
     "metadata": {},
     "output_type": "execute_result"
    }
   ],
   "source": [
    "pip.fit(X_train,y_train.values)"
   ]
  },
  {
   "cell_type": "code",
   "execution_count": 214,
   "metadata": {},
   "outputs": [
    {
     "name": "stderr",
     "output_type": "stream",
     "text": [
      "/anaconda2/lib/python2.7/site-packages/sklearn/feature_extraction/hashing.py:94: DeprecationWarning: the option non_negative=True has been deprecated in 0.19 and will be removed in version 0.21.\n",
      "  \" in version 0.21.\", DeprecationWarning)\n"
     ]
    }
   ],
   "source": [
    "holdout = pd.read_csv(\"TestData.csv\", index_col=0)\n",
    "pred=pip.predict_proba(holdout)"
   ]
  },
  {
   "cell_type": "code",
   "execution_count": 215,
   "metadata": {},
   "outputs": [],
   "source": [
    "dic=[\"Function_\",\"Object_Type_\",\"Operating_Status_\",\"Position_Type_\",\"Pre_K_\",\"Reporting_\",\"Sharing_\",\"Student_Type_\",\"Use_\"]\n",
    "\n",
    "def sub(s):\n",
    "    for i in dic:\n",
    "        s=s.replace(i,i+\"_\")\n",
    "    return s"
   ]
  },
  {
   "cell_type": "code",
   "execution_count": 216,
   "metadata": {},
   "outputs": [
    {
     "name": "stdout",
     "output_type": "stream",
     "text": [
      "['Function__Aides Compensation', 'Function__Career & Academic Counseling', 'Function__Communications', 'Function__Curriculum Development', 'Function__Data Processing & Information Services', 'Function__Development & Fundraising', 'Function__Enrichment', 'Function__Extended Time & Tutoring', 'Function__Facilities & Maintenance', 'Function__Facilities Planning', 'Function__Finance, Budget, Purchasing & Distribution', 'Function__Food Services', 'Function__Governance', 'Function__Human Resources', 'Function__Instructional Materials & Supplies', 'Function__Insurance', 'Function__Legal', 'Function__Library & Media', 'Function__NO_LABEL', 'Function__Other Compensation', 'Function__Other Non-Compensation', 'Function__Parent & Community Relations', 'Function__Physical Health & Services', 'Function__Professional Development', 'Function__Recruitment', 'Function__Research & Accountability', 'Function__School Administration', 'Function__School Supervision', 'Function__Security & Safety', 'Function__Social & Emotional', 'Function__Special Population Program Management & Support', 'Function__Student Assignment', 'Function__Student Transportation', 'Function__Substitute Compensation', 'Function__Teacher Compensation', 'Function__Untracked Budget Set-Aside', 'Function__Utilities', 'Object_Type__Base Salary/Compensation', 'Object_Type__Benefits', 'Object_Type__Contracted Services', 'Object_Type__Equipment & Equipment Lease', 'Object_Type__NO_LABEL', 'Object_Type__Other Compensation/Stipend', 'Object_Type__Other Non-Compensation', 'Object_Type__Rent/Utilities', 'Object_Type__Substitute Compensation', 'Object_Type__Supplies/Materials', 'Object_Type__Travel & Conferences', 'Operating_Status__Non-Operating', 'Operating_Status__Operating, Not PreK-12', 'Operating_Status__PreK-12 Operating', 'Position_Type__(Exec) Director', 'Position_Type__Area Officers', 'Position_Type__Club Advisor/Coach', 'Position_Type__Coordinator/Manager', 'Position_Type__Custodian', 'Position_Type__Guidance Counselor', 'Position_Type__Instructional Coach', 'Position_Type__Librarian', 'Position_Type__NO_LABEL', 'Position_Type__Non-Position', 'Position_Type__Nurse', 'Position_Type__Nurse Aide', 'Position_Type__Occupational Therapist', 'Position_Type__Other', 'Position_Type__Physical Therapist', 'Position_Type__Principal', 'Position_Type__Psychologist', 'Position_Type__School Monitor/Security', 'Position_Type__Sec/Clerk/Other Admin', 'Position_Type__Social Worker', 'Position_Type__Speech Therapist', 'Position_Type__Substitute', 'Position_Type__TA', 'Position_Type__Teacher', 'Position_Type__Vice Principal', 'Pre_K__NO_LABEL', 'Pre_K__Non PreK', 'Pre_K__PreK', 'Reporting__NO_LABEL', 'Reporting__Non-School', 'Reporting__School', 'Sharing__Leadership & Management', 'Sharing__NO_LABEL', 'Sharing__School Reported', 'Sharing__School on Central Budgets', 'Sharing__Shared Services', 'Student_Type__Alternative', 'Student_Type__At Risk', 'Student_Type__ELL', 'Student_Type__Gifted', 'Student_Type__NO_LABEL', 'Student_Type__Poverty', 'Student_Type__PreK', 'Student_Type__Special Education', 'Student_Type__Unspecified', 'Use__Business Services', 'Use__ISPD', 'Use__Instruction', 'Use__Leadership', 'Use__NO_LABEL', 'Use__O&M', 'Use__Pupil Services & Enrichment', 'Use__Untracked Budget Set-Aside']\n",
      "(50064, 104)\n"
     ]
    },
    {
     "data": {
      "text/html": [
       "<div>\n",
       "<style scoped>\n",
       "    .dataframe tbody tr th:only-of-type {\n",
       "        vertical-align: middle;\n",
       "    }\n",
       "\n",
       "    .dataframe tbody tr th {\n",
       "        vertical-align: top;\n",
       "    }\n",
       "\n",
       "    .dataframe thead th {\n",
       "        text-align: right;\n",
       "    }\n",
       "</style>\n",
       "<table border=\"1\" class=\"dataframe\">\n",
       "  <thead>\n",
       "    <tr style=\"text-align: right;\">\n",
       "      <th></th>\n",
       "      <th>Function__Aides Compensation</th>\n",
       "      <th>Function__Career &amp; Academic Counseling</th>\n",
       "      <th>Function__Communications</th>\n",
       "      <th>Function__Curriculum Development</th>\n",
       "      <th>Function__Data Processing &amp; Information Services</th>\n",
       "      <th>Function__Development &amp; Fundraising</th>\n",
       "      <th>Function__Enrichment</th>\n",
       "      <th>Function__Extended Time &amp; Tutoring</th>\n",
       "      <th>Function__Facilities &amp; Maintenance</th>\n",
       "      <th>Function__Facilities Planning</th>\n",
       "      <th>...</th>\n",
       "      <th>Student_Type__Special Education</th>\n",
       "      <th>Student_Type__Unspecified</th>\n",
       "      <th>Use__Business Services</th>\n",
       "      <th>Use__ISPD</th>\n",
       "      <th>Use__Instruction</th>\n",
       "      <th>Use__Leadership</th>\n",
       "      <th>Use__NO_LABEL</th>\n",
       "      <th>Use__O&amp;M</th>\n",
       "      <th>Use__Pupil Services &amp; Enrichment</th>\n",
       "      <th>Use__Untracked Budget Set-Aside</th>\n",
       "    </tr>\n",
       "  </thead>\n",
       "  <tbody>\n",
       "    <tr>\n",
       "      <th>180042</th>\n",
       "      <td>0.110353</td>\n",
       "      <td>0.002092</td>\n",
       "      <td>0.000033</td>\n",
       "      <td>0.000170</td>\n",
       "      <td>0.010813</td>\n",
       "      <td>0.000253</td>\n",
       "      <td>0.066291</td>\n",
       "      <td>0.040207</td>\n",
       "      <td>0.036138</td>\n",
       "      <td>0.000114</td>\n",
       "      <td>...</td>\n",
       "      <td>0.009267</td>\n",
       "      <td>0.878455</td>\n",
       "      <td>0.004208</td>\n",
       "      <td>0.012396</td>\n",
       "      <td>0.915933</td>\n",
       "      <td>0.007438</td>\n",
       "      <td>0.062397</td>\n",
       "      <td>0.048509</td>\n",
       "      <td>0.011219</td>\n",
       "      <td>0.000278</td>\n",
       "    </tr>\n",
       "    <tr>\n",
       "      <th>28872</th>\n",
       "      <td>0.000216</td>\n",
       "      <td>0.001129</td>\n",
       "      <td>0.000332</td>\n",
       "      <td>0.000172</td>\n",
       "      <td>0.003571</td>\n",
       "      <td>0.000197</td>\n",
       "      <td>0.999806</td>\n",
       "      <td>0.002384</td>\n",
       "      <td>0.000761</td>\n",
       "      <td>0.000126</td>\n",
       "      <td>...</td>\n",
       "      <td>0.006299</td>\n",
       "      <td>0.779054</td>\n",
       "      <td>0.004496</td>\n",
       "      <td>0.000848</td>\n",
       "      <td>0.000871</td>\n",
       "      <td>0.004949</td>\n",
       "      <td>0.460868</td>\n",
       "      <td>0.022410</td>\n",
       "      <td>0.730760</td>\n",
       "      <td>0.000210</td>\n",
       "    </tr>\n",
       "    <tr>\n",
       "      <th>186915</th>\n",
       "      <td>0.501319</td>\n",
       "      <td>0.001980</td>\n",
       "      <td>0.000035</td>\n",
       "      <td>0.000579</td>\n",
       "      <td>0.001863</td>\n",
       "      <td>0.000119</td>\n",
       "      <td>0.027159</td>\n",
       "      <td>0.003135</td>\n",
       "      <td>0.026595</td>\n",
       "      <td>0.000081</td>\n",
       "      <td>...</td>\n",
       "      <td>0.037960</td>\n",
       "      <td>0.783861</td>\n",
       "      <td>0.004305</td>\n",
       "      <td>0.017288</td>\n",
       "      <td>0.771549</td>\n",
       "      <td>0.032992</td>\n",
       "      <td>0.061023</td>\n",
       "      <td>0.015396</td>\n",
       "      <td>0.006695</td>\n",
       "      <td>0.000009</td>\n",
       "    </tr>\n",
       "    <tr>\n",
       "      <th>412396</th>\n",
       "      <td>0.501310</td>\n",
       "      <td>0.001980</td>\n",
       "      <td>0.000035</td>\n",
       "      <td>0.000579</td>\n",
       "      <td>0.001863</td>\n",
       "      <td>0.000119</td>\n",
       "      <td>0.027158</td>\n",
       "      <td>0.003135</td>\n",
       "      <td>0.026594</td>\n",
       "      <td>0.000081</td>\n",
       "      <td>...</td>\n",
       "      <td>0.037959</td>\n",
       "      <td>0.783840</td>\n",
       "      <td>0.004305</td>\n",
       "      <td>0.017287</td>\n",
       "      <td>0.771537</td>\n",
       "      <td>0.032993</td>\n",
       "      <td>0.061028</td>\n",
       "      <td>0.015397</td>\n",
       "      <td>0.006695</td>\n",
       "      <td>0.000009</td>\n",
       "    </tr>\n",
       "    <tr>\n",
       "      <th>427740</th>\n",
       "      <td>0.001924</td>\n",
       "      <td>0.003713</td>\n",
       "      <td>0.000669</td>\n",
       "      <td>0.000101</td>\n",
       "      <td>0.024159</td>\n",
       "      <td>0.000357</td>\n",
       "      <td>0.026524</td>\n",
       "      <td>0.000201</td>\n",
       "      <td>0.000617</td>\n",
       "      <td>0.000092</td>\n",
       "      <td>...</td>\n",
       "      <td>0.014505</td>\n",
       "      <td>0.956130</td>\n",
       "      <td>0.305909</td>\n",
       "      <td>0.014937</td>\n",
       "      <td>0.021746</td>\n",
       "      <td>0.405390</td>\n",
       "      <td>0.042824</td>\n",
       "      <td>0.027616</td>\n",
       "      <td>0.079745</td>\n",
       "      <td>0.000206</td>\n",
       "    </tr>\n",
       "  </tbody>\n",
       "</table>\n",
       "<p>5 rows × 104 columns</p>\n",
       "</div>"
      ],
      "text/plain": [
       "        Function__Aides Compensation  Function__Career & Academic Counseling  \\\n",
       "180042                      0.110353                                0.002092   \n",
       "28872                       0.000216                                0.001129   \n",
       "186915                      0.501319                                0.001980   \n",
       "412396                      0.501310                                0.001980   \n",
       "427740                      0.001924                                0.003713   \n",
       "\n",
       "        Function__Communications  Function__Curriculum Development  \\\n",
       "180042                  0.000033                          0.000170   \n",
       "28872                   0.000332                          0.000172   \n",
       "186915                  0.000035                          0.000579   \n",
       "412396                  0.000035                          0.000579   \n",
       "427740                  0.000669                          0.000101   \n",
       "\n",
       "        Function__Data Processing & Information Services  \\\n",
       "180042                                          0.010813   \n",
       "28872                                           0.003571   \n",
       "186915                                          0.001863   \n",
       "412396                                          0.001863   \n",
       "427740                                          0.024159   \n",
       "\n",
       "        Function__Development & Fundraising  Function__Enrichment  \\\n",
       "180042                             0.000253              0.066291   \n",
       "28872                              0.000197              0.999806   \n",
       "186915                             0.000119              0.027159   \n",
       "412396                             0.000119              0.027158   \n",
       "427740                             0.000357              0.026524   \n",
       "\n",
       "        Function__Extended Time & Tutoring  \\\n",
       "180042                            0.040207   \n",
       "28872                             0.002384   \n",
       "186915                            0.003135   \n",
       "412396                            0.003135   \n",
       "427740                            0.000201   \n",
       "\n",
       "        Function__Facilities & Maintenance  Function__Facilities Planning  \\\n",
       "180042                            0.036138                       0.000114   \n",
       "28872                             0.000761                       0.000126   \n",
       "186915                            0.026595                       0.000081   \n",
       "412396                            0.026594                       0.000081   \n",
       "427740                            0.000617                       0.000092   \n",
       "\n",
       "                     ...                 Student_Type__Special Education  \\\n",
       "180042               ...                                        0.009267   \n",
       "28872                ...                                        0.006299   \n",
       "186915               ...                                        0.037960   \n",
       "412396               ...                                        0.037959   \n",
       "427740               ...                                        0.014505   \n",
       "\n",
       "        Student_Type__Unspecified  Use__Business Services  Use__ISPD  \\\n",
       "180042                   0.878455                0.004208   0.012396   \n",
       "28872                    0.779054                0.004496   0.000848   \n",
       "186915                   0.783861                0.004305   0.017288   \n",
       "412396                   0.783840                0.004305   0.017287   \n",
       "427740                   0.956130                0.305909   0.014937   \n",
       "\n",
       "        Use__Instruction  Use__Leadership  Use__NO_LABEL  Use__O&M  \\\n",
       "180042          0.915933         0.007438       0.062397  0.048509   \n",
       "28872           0.000871         0.004949       0.460868  0.022410   \n",
       "186915          0.771549         0.032992       0.061023  0.015396   \n",
       "412396          0.771537         0.032993       0.061028  0.015397   \n",
       "427740          0.021746         0.405390       0.042824  0.027616   \n",
       "\n",
       "        Use__Pupil Services & Enrichment  Use__Untracked Budget Set-Aside  \n",
       "180042                          0.011219                         0.000278  \n",
       "28872                           0.730760                         0.000210  \n",
       "186915                          0.006695                         0.000009  \n",
       "412396                          0.006695                         0.000009  \n",
       "427740                          0.079745                         0.000206  \n",
       "\n",
       "[5 rows x 104 columns]"
      ]
     },
     "execution_count": 216,
     "metadata": {},
     "output_type": "execute_result"
    }
   ],
   "source": [
    "pd.get_dummies(df[labels]).columns\n",
    "nc=ln=[sub(i) for i in pd.get_dummies(df[labels]).columns]\n",
    "print nc\n",
    "df_pred = pd.DataFrame(columns=nc,index=holdout.index,data=pred)\n",
    "df_pred.to_csv(\"predictions.csv\")\n",
    "print pred.shape\n",
    "df_pred.head()"
   ]
  },
  {
   "cell_type": "code",
   "execution_count": 171,
   "metadata": {},
   "outputs": [],
   "source": [
    "BOX_PLOTS_COLUMN_INDICES = [list(range(37)),\n",
    "                            list(range(37, 48)),\n",
    "                            list(range(48, 51)),\n",
    "                            list(range(51, 76)),\n",
    "                            list(range(76, 79)),\n",
    "                            list(range(79, 82)),\n",
    "                            list(range(82, 87)),\n",
    "                            list(range(87, 96)),\n",
    "                            list(range(96, 104))]\n",
    "\n",
    "\n",
    "def multi_multi_log_loss(predicted,\n",
    "                          actual,\n",
    "                          class_column_indices=BOX_PLOTS_COLUMN_INDICES,\n",
    "                          eps=1e-15):\n",
    "    \"\"\" Multi class version of Logarithmic Loss metric as implemented on\n",
    "        DrivenData.org\n",
    "    \"\"\"\n",
    "    class_scores = np.ones(len(class_column_indices), dtype=np.float64)\n",
    "\n",
    "    # calculate log loss for each set of columns that belong to a class:\n",
    "    for k, this_class_indices in enumerate(class_column_indices):\n",
    "        # get just the columns for this class\n",
    "        preds_k = predicted[:, this_class_indices].astype(np.float64)\n",
    "\n",
    "        # normalize so probabilities sum to one (unless sum is zero, then we clip)\n",
    "        preds_k /= np.clip(preds_k.sum(axis=1).reshape(-1, 1), eps, np.inf)\n",
    "\n",
    "        actual_k = actual[:, this_class_indices]\n",
    "\n",
    "        # shrink predictions so\n",
    "        y_hats = np.clip(preds_k, eps, 1 - eps)\n",
    "        sum_logs = np.sum(actual_k * np.log(y_hats))\n",
    "        class_scores[k] = (-1.0 / actual.shape[0]) * sum_logs\n",
    "\n",
    "    return np.average(class_scores)"
   ]
  },
  {
   "cell_type": "code",
   "execution_count": 172,
   "metadata": {},
   "outputs": [
    {
     "name": "stderr",
     "output_type": "stream",
     "text": [
      "/anaconda2/lib/python2.7/site-packages/sklearn/feature_extraction/hashing.py:94: DeprecationWarning: the option non_negative=True has been deprecated in 0.19 and will be removed in version 0.21.\n",
      "  \" in version 0.21.\", DeprecationWarning)\n"
     ]
    },
    {
     "name": "stdout",
     "output_type": "stream",
     "text": [
      "3.1485618821210437\n"
     ]
    }
   ],
   "source": [
    "log_loss_scorer = make_scorer(multi_multi_log_loss)\n",
    "print(log_loss_scorer(pip, X_test, y_test.values))"
   ]
  },
  {
   "cell_type": "code",
   "execution_count": 152,
   "metadata": {},
   "outputs": [
    {
     "name": "stdout",
     "output_type": "stream",
     "text": [
      "(10000, 104)\n"
     ]
    }
   ],
   "source": [
    "print(y_test.shape)"
   ]
  },
  {
   "cell_type": "code",
   "execution_count": null,
   "metadata": {},
   "outputs": [],
   "source": []
  }
 ],
 "metadata": {
  "kernelspec": {
   "display_name": "Python 2",
   "language": "python",
   "name": "python2"
  },
  "language_info": {
   "codemirror_mode": {
    "name": "ipython",
    "version": 2
   },
   "file_extension": ".py",
   "mimetype": "text/x-python",
   "name": "python",
   "nbconvert_exporter": "python",
   "pygments_lexer": "ipython2",
   "version": "2.7.15"
  }
 },
 "nbformat": 4,
 "nbformat_minor": 2
}
