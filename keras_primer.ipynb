{
 "cells": [
  {
   "cell_type": "markdown",
   "metadata": {},
   "source": [
    "## This is a \"Keras primer\" whose purpose is to familiarize with MLP and CNN using Mnist dataset (we also do some hyperparameters tuning)"
   ]
  },
  {
   "cell_type": "code",
   "execution_count": 216,
   "metadata": {},
   "outputs": [],
   "source": [
    "import numpy as np\n",
    "import matplotlib.pyplot as plt\n",
    "import keras\n",
    "from keras.datasets import mnist\n",
    "from keras.utils import to_categorical\n",
    "from keras.models import Sequential\n",
    "from keras.layers import Dense,Dropout,BatchNormalization,Conv2D,Flatten,MaxPooling2D\n",
    "from keras.callbacks import EarlyStopping,ModelCheckpoint,TensorBoard\n",
    "from sklearn.model_selection import GridSearchCV\n",
    "from keras.wrappers.scikit_learn import KerasRegressor\n",
    "from keras.models import load_model"
   ]
  },
  {
   "cell_type": "markdown",
   "metadata": {},
   "source": [
    "We import Mnist dataset"
   ]
  },
  {
   "cell_type": "code",
   "execution_count": 146,
   "metadata": {},
   "outputs": [],
   "source": [
    "(X_train,y_train),(X_test,y_test)=mnist.load_data()"
   ]
  },
  {
   "cell_type": "code",
   "execution_count": 147,
   "metadata": {},
   "outputs": [
    {
     "name": "stdout",
     "output_type": "stream",
     "text": [
      "(60000, 28, 28) (10000, 28, 28)\n",
      "(60000,) (10000,)\n",
      "uint8\n"
     ]
    }
   ],
   "source": [
    "print X_train.shape,X_test.shape\n",
    "print y_train.shape,y_test.shape\n",
    "print X_train.dtype"
   ]
  },
  {
   "cell_type": "code",
   "execution_count": 220,
   "metadata": {},
   "outputs": [
    {
     "data": {
      "image/png": "[encoded data removed]",
      "text/plain": [
       "<Figure size 432x288 with 9 Axes>"
      ]
     },
     "metadata": {},
     "output_type": "display_data"
    },
    {
     "name": "stdout",
     "output_type": "stream",
     "text": [
      "uint8\n"
     ]
    }
   ],
   "source": [
    "for i in range(9):\n",
    "    plt.subplot(3,3,i+1)\n",
    "    plt.imshow(X_train[i],cmap=\"gray\")\n",
    "    plt.title(y_train[i])\n",
    "    plt.xticks([])\n",
    "    plt.yticks([])\n",
    "plt.tight_layout()\n",
    "plt.show()\n",
    "print X_train.dtype"
   ]
  },
  {
   "cell_type": "markdown",
   "metadata": {},
   "source": [
    "We prepare Mnist dataset for analysis "
   ]
  },
  {
   "cell_type": "code",
   "execution_count": 149,
   "metadata": {},
   "outputs": [
    {
     "name": "stdout",
     "output_type": "stream",
     "text": [
      "784\n"
     ]
    }
   ],
   "source": [
    "im_w=X_train.shape[1]\n",
    "im_h=X_train.shape[2]\n",
    "im_d=im_w*im_h\n",
    "print im_d"
   ]
  },
  {
   "cell_type": "code",
   "execution_count": 150,
   "metadata": {},
   "outputs": [],
   "source": [
    "MX_train=X_train.reshape(X_train.shape[0],im_d).astype(\"float32\")\n",
    "MX_test=X_test.reshape(X_test.shape[0],im_d).astype(\"float32\")\n",
    "MX_train/=255\n",
    "MX_test/=255"
   ]
  },
  {
   "cell_type": "code",
   "execution_count": 151,
   "metadata": {},
   "outputs": [
    {
     "name": "stdout",
     "output_type": "stream",
     "text": [
      "(60000, 10) (10000, 10)\n"
     ]
    }
   ],
   "source": [
    "My_train=to_categorical(y_train)\n",
    "My_test=to_categorical(y_test)\n",
    "print My_train.shape,My_test.shape"
   ]
  },
  {
   "cell_type": "markdown",
   "metadata": {},
   "source": [
    "We build the first simple model of MLP"
   ]
  },
  {
   "cell_type": "code",
   "execution_count": 152,
   "metadata": {},
   "outputs": [],
   "source": [
    "def easy_model():\n",
    "    model=Sequential()\n",
    "    model.add(Dense(256,input_dim=im_d,activation=\"relu\"))\n",
    "    model.add(Dropout(0.75))\n",
    "    model.add(BatchNormalization())\n",
    "    model.add(Dense(256,activation=\"relu\"))\n",
    "    model.add(BatchNormalization())\n",
    "    model.add(Dense(10,activation=\"softmax\"))\n",
    "    model.compile(loss=\"categorical_crossentropy\",optimizer=\"adam\",metrics=[\"accuracy\"])\n",
    "    return model"
   ]
  },
  {
   "cell_type": "code",
   "execution_count": 153,
   "metadata": {},
   "outputs": [],
   "source": [
    "emodel=easy_model()"
   ]
  },
  {
   "cell_type": "code",
   "execution_count": 154,
   "metadata": {},
   "outputs": [
    {
     "name": "stdout",
     "output_type": "stream",
     "text": [
      "_________________________________________________________________\n",
      "Layer (type)                 Output Shape              Param #   \n",
      "=================================================================\n",
      "dense_43 (Dense)             (None, 256)               200960    \n",
      "_________________________________________________________________\n",
      "dropout_17 (Dropout)         (None, 256)               0         \n",
      "_________________________________________________________________\n",
      "batch_normalization_15 (Batc (None, 256)               1024      \n",
      "_________________________________________________________________\n",
      "dense_44 (Dense)             (None, 256)               65792     \n",
      "_________________________________________________________________\n",
      "batch_normalization_16 (Batc (None, 256)               1024      \n",
      "_________________________________________________________________\n",
      "dense_45 (Dense)             (None, 10)                2570      \n",
      "=================================================================\n",
      "Total params: 271,370\n",
      "Trainable params: 270,346\n",
      "Non-trainable params: 1,024\n",
      "_________________________________________________________________\n"
     ]
    }
   ],
   "source": [
    "emodel.summary()"
   ]
  },
  {
   "cell_type": "markdown",
   "metadata": {},
   "source": [
    "We build the callbacks and fit the model"
   ]
  },
  {
   "cell_type": "code",
   "execution_count": 155,
   "metadata": {},
   "outputs": [],
   "source": [
    "es=EarlyStopping(monitor=\"val_acc\",patience=3,verbose=1)"
   ]
  },
  {
   "cell_type": "code",
   "execution_count": 156,
   "metadata": {},
   "outputs": [],
   "source": [
    "mc=ModelCheckpoint(\"be_weights.h5\",monitor=\"val_acc\",save_best_only=True)"
   ]
  },
  {
   "cell_type": "code",
   "execution_count": 157,
   "metadata": {},
   "outputs": [],
   "source": [
    "tb=TensorBoard(log_dir=\"./graph\")"
   ]
  },
  {
   "cell_type": "code",
   "execution_count": 158,
   "metadata": {},
   "outputs": [
    {
     "name": "stdout",
     "output_type": "stream",
     "text": [
      "Train on 60000 samples, validate on 10000 samples\n",
      "Epoch 1/40\n",
      "60000/60000 [==============================] - 5s 78us/step - loss: 0.7036 - acc: 0.7769 - val_loss: 0.2268 - val_acc: 0.9308\n",
      "Epoch 2/40\n",
      "60000/60000 [==============================] - 4s 63us/step - loss: 0.3570 - acc: 0.8901 - val_loss: 0.1731 - val_acc: 0.9439\n",
      "Epoch 3/40\n",
      "60000/60000 [==============================] - 4s 64us/step - loss: 0.2915 - acc: 0.9099 - val_loss: 0.1437 - val_acc: 0.9544\n",
      "Epoch 4/40\n",
      "60000/60000 [==============================] - 4s 63us/step - loss: 0.2601 - acc: 0.9209 - val_loss: 0.1275 - val_acc: 0.9581\n",
      "Epoch 5/40\n",
      "60000/60000 [==============================] - 4s 64us/step - loss: 0.2385 - acc: 0.9269 - val_loss: 0.1179 - val_acc: 0.9628\n",
      "Epoch 6/40\n",
      "60000/60000 [==============================] - 4s 69us/step - loss: 0.2197 - acc: 0.9315 - val_loss: 0.1095 - val_acc: 0.9661\n",
      "Epoch 7/40\n",
      "60000/60000 [==============================] - 4s 68us/step - loss: 0.2032 - acc: 0.9373 - val_loss: 0.1076 - val_acc: 0.9672\n",
      "Epoch 8/40\n",
      "60000/60000 [==============================] - 4s 68us/step - loss: 0.1924 - acc: 0.9409 - val_loss: 0.0977 - val_acc: 0.9690\n",
      "Epoch 9/40\n",
      "60000/60000 [==============================] - 4s 67us/step - loss: 0.1848 - acc: 0.9428 - val_loss: 0.0986 - val_acc: 0.9679\n",
      "Epoch 10/40\n",
      "60000/60000 [==============================] - 4s 69us/step - loss: 0.1815 - acc: 0.9440 - val_loss: 0.0947 - val_acc: 0.9705\n",
      "Epoch 11/40\n",
      "60000/60000 [==============================] - 4s 69us/step - loss: 0.1726 - acc: 0.9465 - val_loss: 0.0945 - val_acc: 0.9698\n",
      "Epoch 12/40\n",
      "60000/60000 [==============================] - 4s 66us/step - loss: 0.1695 - acc: 0.9479 - val_loss: 0.0897 - val_acc: 0.9714\n",
      "Epoch 13/40\n",
      "60000/60000 [==============================] - 4s 70us/step - loss: 0.1640 - acc: 0.9489 - val_loss: 0.0894 - val_acc: 0.9720\n",
      "Epoch 14/40\n",
      "60000/60000 [==============================] - 4s 65us/step - loss: 0.1606 - acc: 0.9504 - val_loss: 0.0830 - val_acc: 0.9741\n",
      "Epoch 15/40\n",
      "60000/60000 [==============================] - 4s 67us/step - loss: 0.1538 - acc: 0.9522 - val_loss: 0.0827 - val_acc: 0.9748\n",
      "Epoch 16/40\n",
      "60000/60000 [==============================] - 4s 66us/step - loss: 0.1476 - acc: 0.9532 - val_loss: 0.0795 - val_acc: 0.9748\n",
      "Epoch 17/40\n",
      "60000/60000 [==============================] - 4s 72us/step - loss: 0.1472 - acc: 0.9548 - val_loss: 0.0840 - val_acc: 0.9745\n",
      "Epoch 18/40\n",
      "60000/60000 [==============================] - 4s 69us/step - loss: 0.1455 - acc: 0.9539 - val_loss: 0.0783 - val_acc: 0.9761\n",
      "Epoch 19/40\n",
      "60000/60000 [==============================] - 4s 66us/step - loss: 0.1400 - acc: 0.9549 - val_loss: 0.0819 - val_acc: 0.9735\n",
      "Epoch 20/40\n",
      "60000/60000 [==============================] - 4s 68us/step - loss: 0.1385 - acc: 0.9565 - val_loss: 0.0789 - val_acc: 0.9762\n",
      "Epoch 21/40\n",
      "60000/60000 [==============================] - 4s 72us/step - loss: 0.1359 - acc: 0.9559 - val_loss: 0.0798 - val_acc: 0.9748\n",
      "Epoch 22/40\n",
      "60000/60000 [==============================] - 4s 67us/step - loss: 0.1345 - acc: 0.9570 - val_loss: 0.0755 - val_acc: 0.9773\n",
      "Epoch 23/40\n",
      "60000/60000 [==============================] - 4s 66us/step - loss: 0.1319 - acc: 0.9579 - val_loss: 0.0732 - val_acc: 0.9784\n",
      "Epoch 24/40\n",
      "60000/60000 [==============================] - 4s 67us/step - loss: 0.1321 - acc: 0.9575 - val_loss: 0.0746 - val_acc: 0.9774\n",
      "Epoch 25/40\n",
      "60000/60000 [==============================] - 4s 67us/step - loss: 0.1339 - acc: 0.9573 - val_loss: 0.0750 - val_acc: 0.9771\n",
      "Epoch 26/40\n",
      "60000/60000 [==============================] - 4s 67us/step - loss: 0.1267 - acc: 0.9603 - val_loss: 0.0768 - val_acc: 0.9777\n",
      "Epoch 00026: early stopping\n"
     ]
    }
   ],
   "source": [
    "history=emodel.fit(MX_train,My_train,validation_data=(MX_test,My_test),callbacks=[es,mc,tb],epochs=40,batch_size=512,verbose=1)"
   ]
  },
  {
   "cell_type": "markdown",
   "metadata": {},
   "source": [
    "To get to tensorboard one must use the console command \"Tensorboard --logdir=./\" and then go to localhost:6006"
   ]
  },
  {
   "cell_type": "code",
   "execution_count": 159,
   "metadata": {},
   "outputs": [
    {
     "name": "stdout",
     "output_type": "stream",
     "text": [
      "10000/10000 [==============================] - 1s 76us/step\n"
     ]
    },
    {
     "data": {
      "text/plain": [
       "[0.07681872550901025, 0.9777]"
      ]
     },
     "execution_count": 159,
     "metadata": {},
     "output_type": "execute_result"
    }
   ],
   "source": [
    "emodel.evaluate(MX_test,My_test)"
   ]
  },
  {
   "cell_type": "code",
   "execution_count": 160,
   "metadata": {},
   "outputs": [],
   "source": [
    "emodel.load_weights(\"be_weights.h5\")"
   ]
  },
  {
   "cell_type": "code",
   "execution_count": 161,
   "metadata": {},
   "outputs": [
    {
     "name": "stdout",
     "output_type": "stream",
     "text": [
      "10000/10000 [==============================] - 1s 81us/step\n",
      "[0.07317178776736837, 0.9784]\n"
     ]
    }
   ],
   "source": [
    "eval=emodel.evaluate(MX_test,My_test)\n",
    "print eval"
   ]
  },
  {
   "cell_type": "code",
   "execution_count": 162,
   "metadata": {},
   "outputs": [
    {
     "data": {
      "image/png": "[encoded data removed]",
      "text/plain": [
       "<Figure size 432x288 with 2 Axes>"
      ]
     },
     "metadata": {
      "needs_background": "light"
     },
     "output_type": "display_data"
    }
   ],
   "source": [
    "plt.subplot(2,1,1)\n",
    "plt.plot(history.history[\"loss\"])\n",
    "plt.plot(history.history[\"val_loss\"])\n",
    "plt.title(\"Loss\")\n",
    "plt.xlabel(\"epochs\")\n",
    "plt.ylabel(\"loss\")\n",
    "plt.legend([\"train\",\"validation\"])\n",
    "\n",
    "plt.subplot(2,1,2)\n",
    "plt.plot(history.history[\"acc\"])\n",
    "plt.plot(history.history[\"val_acc\"])\n",
    "plt.title(\"Accuracy\")\n",
    "plt.xlabel(\"epochs\")\n",
    "plt.ylabel(\"accuracy\")\n",
    "plt.legend([\"train\",\"validation\"])\n",
    "\n",
    "plt.tight_layout()\n",
    "plt.show()"
   ]
  },
  {
   "cell_type": "markdown",
   "metadata": {},
   "source": [
    "**Observation** : it results train_loss > val_loss and val_accuracy > train_accuracy because we used dropout: some weights are put to zero during training and are instead used on the validation set. Indeed, in no_dropout_model this situation does not appear.\n",
    "\n",
    "Now we investigate which are the indexes of the wrong predictions"
   ]
  },
  {
   "cell_type": "code",
   "execution_count": 163,
   "metadata": {},
   "outputs": [],
   "source": [
    "y_pred=emodel.predict(MX_test)"
   ]
  },
  {
   "cell_type": "code",
   "execution_count": 166,
   "metadata": {},
   "outputs": [
    {
     "name": "stdout",
     "output_type": "stream",
     "text": [
      "(10000,) (10000,)\n",
      "(10000, 10) (10000, 10)\n"
     ]
    }
   ],
   "source": [
    "y_testa=np.argmax(My_test,axis=1)\n",
    "y_preda=np.argmax(y_pred,axis=1)\n",
    "print y_testa.shape,y_preda.shape\n",
    "print My_test.shape,y_pred.shape"
   ]
  },
  {
   "cell_type": "code",
   "execution_count": 167,
   "metadata": {},
   "outputs": [
    {
     "name": "stdout",
     "output_type": "stream",
     "text": [
      "True\n"
     ]
    }
   ],
   "source": [
    "correct_indeces = np.nonzero(y_preda == y_testa)[0]\n",
    "wrong_indeces=np.nonzero(y_preda!=y_testa)[0]\n",
    "my_accuracy=float(len(correct_indeces))/float(len(y_testa))\n",
    "print my_accuracy==eval[1]"
   ]
  },
  {
   "cell_type": "code",
   "execution_count": 168,
   "metadata": {},
   "outputs": [
    {
     "data": {
      "image/png": "[encoded data removed]",
      "text/plain": [
       "<Figure size 432x288 with 9 Axes>"
      ]
     },
     "metadata": {},
     "output_type": "display_data"
    }
   ],
   "source": [
    "for i in range(9):\n",
    "    plt.subplot(3,3,i+1)\n",
    "    plt.imshow(X_test[wrong_indeces[i]],cmap=\"gray\")\n",
    "    plt.title(y_preda[wrong_indeces[i]])\n",
    "    plt.xticks([])\n",
    "    plt.yticks([])\n",
    "plt.tight_layout()\n",
    "plt.show()"
   ]
  },
  {
   "cell_type": "code",
   "execution_count": 174,
   "metadata": {},
   "outputs": [],
   "source": [
    "def no_dropout_model():\n",
    "    model=Sequential()\n",
    "    model.add(Dense(im_d,input_dim=im_d,activation=\"relu\",kernel_initializer='normal'))\n",
    "    model.add(Dense(10,activation=\"softmax\"))\n",
    "    model.compile(loss=\"categorical_crossentropy\",optimizer=\"adam\",metrics=[\"accuracy\"])\n",
    "    return model"
   ]
  },
  {
   "cell_type": "code",
   "execution_count": 175,
   "metadata": {},
   "outputs": [
    {
     "name": "stdout",
     "output_type": "stream",
     "text": [
      "_________________________________________________________________\n",
      "Layer (type)                 Output Shape              Param #   \n",
      "=================================================================\n",
      "dense_48 (Dense)             (None, 784)               615440    \n",
      "_________________________________________________________________\n",
      "dense_49 (Dense)             (None, 10)                7850      \n",
      "=================================================================\n",
      "Total params: 623,290\n",
      "Trainable params: 623,290\n",
      "Non-trainable params: 0\n",
      "_________________________________________________________________\n"
     ]
    }
   ],
   "source": [
    "ndmodel=no_dropout_model()\n",
    "ndmodel.summary()"
   ]
  },
  {
   "cell_type": "code",
   "execution_count": 176,
   "metadata": {},
   "outputs": [
    {
     "name": "stdout",
     "output_type": "stream",
     "text": [
      "Train on 60000 samples, validate on 10000 samples\n",
      "Epoch 1/40\n",
      "60000/60000 [==============================] - 6s 107us/step - loss: 0.3893 - acc: 0.8924 - val_loss: 0.1847 - val_acc: 0.9474\n",
      "Epoch 2/40\n",
      "60000/60000 [==============================] - 6s 99us/step - loss: 0.1566 - acc: 0.9557 - val_loss: 0.1331 - val_acc: 0.9610\n",
      "Epoch 3/40\n",
      "60000/60000 [==============================] - 5s 88us/step - loss: 0.1079 - acc: 0.9701 - val_loss: 0.1011 - val_acc: 0.9708\n",
      "Epoch 4/40\n",
      "60000/60000 [==============================] - 5s 88us/step - loss: 0.0807 - acc: 0.9776 - val_loss: 0.0842 - val_acc: 0.9743\n",
      "Epoch 5/40\n",
      "60000/60000 [==============================] - 5s 88us/step - loss: 0.0615 - acc: 0.9829 - val_loss: 0.0764 - val_acc: 0.9768\n",
      "Epoch 6/40\n",
      "60000/60000 [==============================] - 5s 90us/step - loss: 0.0486 - acc: 0.9871 - val_loss: 0.0712 - val_acc: 0.9766\n",
      "Epoch 7/40\n",
      "60000/60000 [==============================] - 5s 91us/step - loss: 0.0400 - acc: 0.9895 - val_loss: 0.0667 - val_acc: 0.9790\n",
      "Epoch 8/40\n",
      "60000/60000 [==============================] - 5s 91us/step - loss: 0.0315 - acc: 0.9922 - val_loss: 0.0628 - val_acc: 0.9797\n",
      "Epoch 9/40\n",
      "60000/60000 [==============================] - 5s 89us/step - loss: 0.0264 - acc: 0.9937 - val_loss: 0.0590 - val_acc: 0.9814\n",
      "Epoch 10/40\n",
      "60000/60000 [==============================] - 6s 92us/step - loss: 0.0210 - acc: 0.9954 - val_loss: 0.0595 - val_acc: 0.9826\n",
      "Epoch 11/40\n",
      "60000/60000 [==============================] - 6s 92us/step - loss: 0.0174 - acc: 0.9965 - val_loss: 0.0582 - val_acc: 0.9820\n",
      "Epoch 12/40\n",
      "60000/60000 [==============================] - 6s 95us/step - loss: 0.0145 - acc: 0.9974 - val_loss: 0.0576 - val_acc: 0.9817\n",
      "Epoch 13/40\n",
      "60000/60000 [==============================] - 6s 95us/step - loss: 0.0109 - acc: 0.9986 - val_loss: 0.0604 - val_acc: 0.9809\n",
      "Epoch 00013: early stopping\n"
     ]
    }
   ],
   "source": [
    "ndhistory=ndmodel.fit(MX_train,My_train,validation_data=(MX_test,My_test),callbacks=[es],epochs=40,batch_size=512,verbose=1)"
   ]
  },
  {
   "cell_type": "code",
   "execution_count": 178,
   "metadata": {},
   "outputs": [
    {
     "data": {
      "image/png": "[encoded data removed]",
      "text/plain": [
       "<Figure size 432x288 with 2 Axes>"
      ]
     },
     "metadata": {
      "needs_background": "light"
     },
     "output_type": "display_data"
    }
   ],
   "source": [
    "plt.subplot(2,1,1)\n",
    "plt.plot(ndhistory.history[\"loss\"])\n",
    "plt.plot(ndhistory.history[\"val_loss\"])\n",
    "plt.xlabel(\"epochs\")\n",
    "plt.ylabel(\"loss\")\n",
    "plt.title(\"Loss\")\n",
    "plt.legend([\"train\",\"validation\"])\n",
    "\n",
    "plt.subplot(2,1,2)\n",
    "plt.plot(ndhistory.history[\"acc\"])\n",
    "plt.plot(ndhistory.history[\"val_acc\"])\n",
    "plt.xlabel(\"epochs\")\n",
    "plt.ylabel(\"acc\")\n",
    "plt.title(\"Accuracy\")\n",
    "plt.legend([\"train\",\"validation\"])\n",
    "\n",
    "plt.tight_layout()\n",
    "plt.show()"
   ]
  },
  {
   "cell_type": "markdown",
   "metadata": {},
   "source": [
    "Here it results val_loss > train_loss and val_acc < train_acc as we expected\n",
    "\n",
    "Now we build a CNN model"
   ]
  },
  {
   "cell_type": "code",
   "execution_count": 187,
   "metadata": {},
   "outputs": [],
   "source": [
    "def conv_model():\n",
    "    model=Sequential()\n",
    "    model.add(Conv2D(32,kernel_size=3,activation=\"relu\",input_shape=(28,28,1)))\n",
    "    model.add(Conv2D(32,kernel_size=3,activation=\"relu\"))\n",
    "    model.add(MaxPooling2D(pool_size=(2,2)))\n",
    "    model.add(Dropout(0.25))\n",
    "    model.add(Flatten())\n",
    "    model.add(Dense(64,activation=\"relu\"))\n",
    "    model.add(Dropout(0.5))\n",
    "    model.add(Dense(10,activation=\"softmax\"))\n",
    "    model.compile(loss=\"categorical_crossentropy\",optimizer=\"adam\",metrics=[\"accuracy\"])\n",
    "    return model"
   ]
  },
  {
   "cell_type": "code",
   "execution_count": 189,
   "metadata": {},
   "outputs": [
    {
     "name": "stdout",
     "output_type": "stream",
     "text": [
      "_________________________________________________________________\n",
      "Layer (type)                 Output Shape              Param #   \n",
      "=================================================================\n",
      "conv2d_3 (Conv2D)            (None, 26, 26, 32)        320       \n",
      "_________________________________________________________________\n",
      "conv2d_4 (Conv2D)            (None, 24, 24, 32)        9248      \n",
      "_________________________________________________________________\n",
      "max_pooling2d_2 (MaxPooling2 (None, 12, 12, 32)        0         \n",
      "_________________________________________________________________\n",
      "dropout_20 (Dropout)         (None, 12, 12, 32)        0         \n",
      "_________________________________________________________________\n",
      "flatten_2 (Flatten)          (None, 4608)              0         \n",
      "_________________________________________________________________\n",
      "dense_52 (Dense)             (None, 64)                294976    \n",
      "_________________________________________________________________\n",
      "dropout_21 (Dropout)         (None, 64)                0         \n",
      "_________________________________________________________________\n",
      "dense_53 (Dense)             (None, 10)                650       \n",
      "=================================================================\n",
      "Total params: 305,194\n",
      "Trainable params: 305,194\n",
      "Non-trainable params: 0\n",
      "_________________________________________________________________\n"
     ]
    }
   ],
   "source": [
    "cmodel=conv_model()\n",
    "cmodel.summary()"
   ]
  },
  {
   "cell_type": "markdown",
   "metadata": {},
   "source": [
    "Note: here X_train and X_test must have shape (28,28,1)"
   ]
  },
  {
   "cell_type": "code",
   "execution_count": 192,
   "metadata": {},
   "outputs": [
    {
     "name": "stdout",
     "output_type": "stream",
     "text": [
      "(60000, 28, 28, 1) (10000, 28, 28, 1)\n"
     ]
    }
   ],
   "source": [
    "MX_trainc=MX_train.reshape(MX_train.shape[0],28,28,1).astype(\"float32\")\n",
    "MX_testc=MX_test.reshape(MX_test.shape[0],28,28,1).astype(\"float32\")\n",
    "print MX_trainc.shape,MX_testc.shape"
   ]
  },
  {
   "cell_type": "code",
   "execution_count": 193,
   "metadata": {},
   "outputs": [
    {
     "name": "stdout",
     "output_type": "stream",
     "text": [
      "Train on 60000 samples, validate on 10000 samples\n",
      "Epoch 1/2\n",
      "60000/60000 [==============================] - 127s 2ms/step - loss: 0.5688 - acc: 0.8220 - val_loss: 0.1122 - val_acc: 0.9665\n",
      "Epoch 2/2\n",
      "60000/60000 [==============================] - 123s 2ms/step - loss: 0.1905 - acc: 0.9439 - val_loss: 0.0674 - val_acc: 0.9795\n"
     ]
    },
    {
     "data": {
      "text/plain": [
       "<keras.callbacks.History at 0xb1e413450>"
      ]
     },
     "execution_count": 193,
     "metadata": {},
     "output_type": "execute_result"
    }
   ],
   "source": [
    "cmodel.fit(MX_trainc,My_train,validation_data=(MX_testc,My_test),epochs=2,batch_size=512)"
   ]
  },
  {
   "cell_type": "markdown",
   "metadata": {},
   "source": [
    "Now we do some hyperparameters tuning using GridSearchCV"
   ]
  },
  {
   "cell_type": "code",
   "execution_count": 199,
   "metadata": {},
   "outputs": [],
   "source": [
    "def model_creator(activation,optimizer,model_dens,dropout_rate):\n",
    "    model=Sequential()\n",
    "    model.add(Dense(model_dens,input_dim=im_d,activation=activation))\n",
    "    model.add(BatchNormalization())\n",
    "    model.add(Dropout(dropout_rate))\n",
    "    model.add(Dense(model_dens,activation=activation))\n",
    "    model.add(BatchNormalization())\n",
    "    model.add(Dense(10,activation=\"softmax\"))\n",
    "    model.compile(loss=\"categorical_crossentropy\",optimizer=optimizer,metrics=[\"accuracy\"])\n",
    "    return model"
   ]
  },
  {
   "cell_type": "code",
   "execution_count": 200,
   "metadata": {},
   "outputs": [],
   "source": [
    "def grid_search_nn(X_train,y_train,model_creator):\n",
    "    model=KerasRegressor(build_fn=model_creator)\n",
    "    batch_size=50\n",
    "    epochs=3\n",
    "    hyper_params={\"activation\":[\"softmax\",\"relu\"],\"optimizer\":[\"adam\",\"rmsprop\"],\"model_dens\":[256],\"dropout_rate\":[0.5,0.75]}\n",
    "    grid=GridSearchCV(estimator=model,param_grid=hyper_params)\n",
    "    grid_result=grid.fit(X_train,y_train)\n",
    "    return grid_result"
   ]
  },
  {
   "cell_type": "code",
   "execution_count": 201,
   "metadata": {},
   "outputs": [
    {
     "name": "stdout",
     "output_type": "stream",
     "text": [
      "Epoch 1/1\n",
      "40000/40000 [==============================] - 13s 327us/step - loss: 0.4196 - acc: 0.8814\n",
      "20000/20000 [==============================] - 2s 112us/step\n",
      "40000/40000 [==============================] - 3s 87us/step\n",
      "Epoch 1/1\n",
      "40000/40000 [==============================] - 13s 334us/step - loss: 0.4200 - acc: 0.8810\n",
      "20000/20000 [==============================] - 2s 123us/step\n",
      "40000/40000 [==============================] - 4s 90us/step\n",
      "Epoch 1/1\n",
      "40000/40000 [==============================] - 13s 327us/step - loss: 0.4239 - acc: 0.8776\n",
      "20000/20000 [==============================] - 3s 126us/step\n",
      "40000/40000 [==============================] - 4s 101us/step\n",
      "Epoch 1/1\n",
      "40000/40000 [==============================] - 13s 323us/step - loss: 0.4301 - acc: 0.8774\n",
      "20000/20000 [==============================] - 2s 123us/step\n",
      "40000/40000 [==============================] - 4s 105us/step\n",
      "Epoch 1/1\n",
      "40000/40000 [==============================] - 13s 322us/step - loss: 0.4232 - acc: 0.8800\n",
      "20000/20000 [==============================] - 2s 121us/step\n",
      "40000/40000 [==============================] - 4s 93us/step\n",
      "Epoch 1/1\n",
      "40000/40000 [==============================] - 14s 345us/step - loss: 0.4354 - acc: 0.8742\n",
      "20000/20000 [==============================] - 3s 135us/step\n",
      "40000/40000 [==============================] - 4s 102us/step\n",
      "Epoch 1/1\n",
      "40000/40000 [==============================] - 16s 394us/step - loss: 0.5444 - acc: 0.8442\n",
      "20000/20000 [==============================] - 3s 142us/step\n",
      "40000/40000 [==============================] - 4s 108us/step\n",
      "Epoch 1/1\n",
      "40000/40000 [==============================] - 15s 371us/step - loss: 0.5428 - acc: 0.8399\n",
      "20000/20000 [==============================] - 3s 156us/step\n",
      "40000/40000 [==============================] - 4s 105us/step\n",
      "Epoch 1/1\n",
      "40000/40000 [==============================] - 16s 411us/step - loss: 0.5423 - acc: 0.8445\n",
      "20000/20000 [==============================] - 3s 150us/step\n",
      "40000/40000 [==============================] - 4s 107us/step\n",
      "Epoch 1/1\n",
      "40000/40000 [==============================] - 15s 378us/step - loss: 0.5587 - acc: 0.8400\n",
      "20000/20000 [==============================] - 4s 181us/step\n",
      "40000/40000 [==============================] - 4s 97us/step\n",
      "Epoch 1/1\n",
      "40000/40000 [==============================] - 14s 344us/step - loss: 0.5613 - acc: 0.8386\n",
      "20000/20000 [==============================] - 3s 168us/step\n",
      "40000/40000 [==============================] - 5s 118us/step\n",
      "Epoch 1/1\n",
      "40000/40000 [==============================] - 15s 386us/step - loss: 0.5589 - acc: 0.8351\n",
      "20000/20000 [==============================] - 3s 173us/step\n",
      "40000/40000 [==============================] - 5s 121us/step\n",
      "Epoch 1/1\n",
      "40000/40000 [==============================] - 15s 370us/step - loss: 0.3733 - acc: 0.8843\n",
      "20000/20000 [==============================] - 3s 149us/step\n",
      "40000/40000 [==============================] - 4s 105us/step\n",
      "Epoch 1/1\n",
      "40000/40000 [==============================] - 16s 406us/step - loss: 0.3601 - acc: 0.8894\n",
      "20000/20000 [==============================] - 4s 177us/step\n",
      "40000/40000 [==============================] - 5s 119us/step\n",
      "Epoch 1/1\n",
      "40000/40000 [==============================] - 17s 422us/step - loss: 0.3679 - acc: 0.8847\n",
      "20000/20000 [==============================] - 4s 179us/step\n",
      "40000/40000 [==============================] - 4s 110us/step\n",
      "Epoch 1/1\n",
      "40000/40000 [==============================] - 15s 383us/step - loss: 0.3589 - acc: 0.8896\n",
      "20000/20000 [==============================] - 4s 182us/step\n",
      "40000/40000 [==============================] - 5s 128us/step\n",
      "Epoch 1/1\n",
      "40000/40000 [==============================] - 15s 380us/step - loss: 0.3605 - acc: 0.8919\n",
      "20000/20000 [==============================] - 4s 182us/step\n",
      "40000/40000 [==============================] - 5s 119us/step\n",
      "Epoch 1/1\n",
      "40000/40000 [==============================] - 16s 406us/step - loss: 0.3598 - acc: 0.8909\n",
      "20000/20000 [==============================] - 4s 185us/step\n",
      "40000/40000 [==============================] - 5s 132us/step\n",
      "Epoch 1/1\n",
      "40000/40000 [==============================] - 19s 466us/step - loss: 0.5475 - acc: 0.8279\n",
      "20000/20000 [==============================] - 4s 201us/step\n",
      "40000/40000 [==============================] - 5s 136us/step\n",
      "Epoch 1/1\n",
      "40000/40000 [==============================] - 17s 423us/step - loss: 0.5468 - acc: 0.8292\n",
      "20000/20000 [==============================] - 4s 197us/step\n",
      "40000/40000 [==============================] - 5s 132us/step\n",
      "Epoch 1/1\n",
      "40000/40000 [==============================] - 18s 445us/step - loss: 0.5489 - acc: 0.8272\n",
      "20000/20000 [==============================] - 4s 184us/step\n",
      "40000/40000 [==============================] - 6s 142us/step\n",
      "Epoch 1/1\n",
      "40000/40000 [==============================] - 14s 345us/step - loss: 0.5263 - acc: 0.8359\n",
      "20000/20000 [==============================] - 4s 180us/step\n",
      "40000/40000 [==============================] - 5s 115us/step\n",
      "Epoch 1/1\n",
      "40000/40000 [==============================] - 16s 397us/step - loss: 0.5187 - acc: 0.8383\n",
      "20000/20000 [==============================] - 6s 323us/step\n",
      "40000/40000 [==============================] - 6s 155us/step\n",
      "Epoch 1/1\n",
      "40000/40000 [==============================] - 16s 400us/step - loss: 0.5293 - acc: 0.8382\n",
      "20000/20000 [==============================] - 4s 209us/step\n",
      "40000/40000 [==============================] - 5s 131us/step\n",
      "Epoch 1/1\n",
      "60000/60000 [==============================] - 23s 381us/step - loss: 0.3135 - acc: 0.9039\n"
     ]
    }
   ],
   "source": [
    "grid_res=grid_search_nn(MX_train, My_train,model_creator)"
   ]
  },
  {
   "cell_type": "code",
   "execution_count": 210,
   "metadata": {},
   "outputs": [
    {
     "name": "stdout",
     "output_type": "stream",
     "text": [
      "MEANS = [-0.18208572 -0.20361475 -0.21923483 -0.25373487 -0.16531056 -0.15668848\n",
      " -0.20830678 -0.20958152] \n",
      "\n",
      "STDS =  [0.00667638 0.01594306 0.00766526 0.01518921 0.00308137 0.00719743\n",
      " 0.00287609 0.00969213] \n",
      "\n",
      "PARAMETERS = [{'optimizer': 'adam', 'activation': 'softmax', 'model_dens': 256, 'dropout_rate': 0.5}, {'optimizer': 'rmsprop', 'activation': 'softmax', 'model_dens': 256, 'dropout_rate': 0.5}, {'optimizer': 'adam', 'activation': 'softmax', 'model_dens': 256, 'dropout_rate': 0.75}, {'optimizer': 'rmsprop', 'activation': 'softmax', 'model_dens': 256, 'dropout_rate': 0.75}, {'optimizer': 'adam', 'activation': 'relu', 'model_dens': 256, 'dropout_rate': 0.5}, {'optimizer': 'rmsprop', 'activation': 'relu', 'model_dens': 256, 'dropout_rate': 0.5}, {'optimizer': 'adam', 'activation': 'relu', 'model_dens': 256, 'dropout_rate': 0.75}, {'optimizer': 'rmsprop', 'activation': 'relu', 'model_dens': 256, 'dropout_rate': 0.75}] \n",
      "\n",
      "BEST SCORE = -0.15668848221848408 \n",
      "\n",
      "BEST PARAMETERS = {'optimizer': 'rmsprop', 'activation': 'relu', 'model_dens': 256, 'dropout_rate': 0.5}\n"
     ]
    }
   ],
   "source": [
    "means=grid_res.cv_results_['mean_test_score']\n",
    "stds = grid_res.cv_results_['std_test_score']\n",
    "params = grid_res.cv_results_['params']\n",
    "best_score=grid_res.best_score_\n",
    "best_params=grid_res.best_params_\n",
    "print \"MEANS =\", means ,\"\\n\"\n",
    "print \"STDS = \", stds, \"\\n\"\n",
    "print \"PARAMETERS =\", params, \"\\n\"\n",
    "print \"BEST SCORE =\", best_score, \"\\n\"\n",
    "print \"BEST PARAMETERS =\", best_params"
   ]
  },
  {
   "cell_type": "code",
   "execution_count": 211,
   "metadata": {},
   "outputs": [],
   "source": [
    "smart_model=model_creator(**best_params)"
   ]
  },
  {
   "cell_type": "markdown",
   "metadata": {},
   "source": [
    "*Nota:* passare **train_params alla funzione create_model serve a fare unpacking del dizionario train_params, ovvero a passare i valori del dizionario come input della funzione"
   ]
  },
  {
   "cell_type": "code",
   "execution_count": 212,
   "metadata": {},
   "outputs": [],
   "source": [
    "smart_model.save_weights('smart_model_w.h5')"
   ]
  },
  {
   "cell_type": "code",
   "execution_count": 213,
   "metadata": {},
   "outputs": [],
   "source": [
    "smart_model.load_weights(\"smart_model_w.h5\")"
   ]
  },
  {
   "cell_type": "code",
   "execution_count": 214,
   "metadata": {},
   "outputs": [],
   "source": [
    "smart_model.save(\"smart_model\")"
   ]
  },
  {
   "cell_type": "code",
   "execution_count": 218,
   "metadata": {},
   "outputs": [],
   "source": [
    "s_model=load_model(\"smart_model\")"
   ]
  },
  {
   "cell_type": "code",
   "execution_count": 219,
   "metadata": {},
   "outputs": [
    {
     "name": "stdout",
     "output_type": "stream",
     "text": [
      "[array([[-2.2090551e-02, -3.0906033e-02, -6.5859973e-02, ...,\n",
      "        -5.0559640e-05, -1.7814212e-02, -4.6586543e-02],\n",
      "       [-5.5393137e-02, -6.9302984e-02, -5.8218315e-03, ...,\n",
      "         4.1379787e-02, -2.0284612e-02, -6.0163710e-02],\n",
      "       [-6.7394130e-02,  3.1559244e-03, -6.1702993e-02, ...,\n",
      "        -2.5518730e-02,  3.0451566e-02, -7.8399554e-03],\n",
      "       ...,\n",
      "       [-1.0161050e-02, -1.3890039e-02, -2.8735645e-02, ...,\n",
      "        -7.0107594e-02, -3.0349445e-02, -2.1281976e-02],\n",
      "       [-1.1298344e-02,  3.4962095e-02,  7.2605193e-02, ...,\n",
      "        -2.7940415e-02, -2.5252253e-02, -4.0755838e-02],\n",
      "       [ 3.3379167e-02,  3.9642721e-02, -6.4314879e-02, ...,\n",
      "        -2.3332950e-02, -2.6827063e-02,  6.2438115e-02]], dtype=float32), array([0., 0., 0., 0., 0., 0., 0., 0., 0., 0., 0., 0., 0., 0., 0., 0., 0.,\n",
      "       0., 0., 0., 0., 0., 0., 0., 0., 0., 0., 0., 0., 0., 0., 0., 0., 0.,\n",
      "       0., 0., 0., 0., 0., 0., 0., 0., 0., 0., 0., 0., 0., 0., 0., 0., 0.,\n",
      "       0., 0., 0., 0., 0., 0., 0., 0., 0., 0., 0., 0., 0., 0., 0., 0., 0.,\n",
      "       0., 0., 0., 0., 0., 0., 0., 0., 0., 0., 0., 0., 0., 0., 0., 0., 0.,\n",
      "       0., 0., 0., 0., 0., 0., 0., 0., 0., 0., 0., 0., 0., 0., 0., 0., 0.,\n",
      "       0., 0., 0., 0., 0., 0., 0., 0., 0., 0., 0., 0., 0., 0., 0., 0., 0.,\n",
      "       0., 0., 0., 0., 0., 0., 0., 0., 0., 0., 0., 0., 0., 0., 0., 0., 0.,\n",
      "       0., 0., 0., 0., 0., 0., 0., 0., 0., 0., 0., 0., 0., 0., 0., 0., 0.,\n",
      "       0., 0., 0., 0., 0., 0., 0., 0., 0., 0., 0., 0., 0., 0., 0., 0., 0.,\n",
      "       0., 0., 0., 0., 0., 0., 0., 0., 0., 0., 0., 0., 0., 0., 0., 0., 0.,\n",
      "       0., 0., 0., 0., 0., 0., 0., 0., 0., 0., 0., 0., 0., 0., 0., 0., 0.,\n",
      "       0., 0., 0., 0., 0., 0., 0., 0., 0., 0., 0., 0., 0., 0., 0., 0., 0.,\n",
      "       0., 0., 0., 0., 0., 0., 0., 0., 0., 0., 0., 0., 0., 0., 0., 0., 0.,\n",
      "       0., 0., 0., 0., 0., 0., 0., 0., 0., 0., 0., 0., 0., 0., 0., 0., 0.,\n",
      "       0.], dtype=float32)]\n"
     ]
    }
   ],
   "source": [
    "print s_model.layers[0].get_weights()"
   ]
  },
  {
   "cell_type": "code",
   "execution_count": null,
   "metadata": {},
   "outputs": [],
   "source": []
  }
 ],
 "metadata": {
  "kernelspec": {
   "display_name": "Python 2",
   "language": "python",
   "name": "python2"
  },
  "language_info": {
   "codemirror_mode": {
    "name": "ipython",
    "version": 2
   },
   "file_extension": ".py",
   "mimetype": "text/x-python",
   "name": "python",
   "nbconvert_exporter": "python",
   "pygments_lexer": "ipython2",
   "version": "2.7.15"
  }
 },
 "nbformat": 4,
 "nbformat_minor": 2
}
